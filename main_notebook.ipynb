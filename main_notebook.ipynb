{
 "cells": [
  {
   "cell_type": "code",
   "execution_count": null,
   "id": "64995830",
   "metadata": {},
   "outputs": [],
   "source": []
  },
  {
   "cell_type": "markdown",
   "id": "9e85bab4",
   "metadata": {},
   "source": [
    "# Follow the instruction as you proceed\n",
    "In the following cell, please install qiskit if you have not downloaded.\n",
    "\n",
    "After the successful installation of qiskit, run the following cell to import some modules."
   ]
  },
  {
   "cell_type": "code",
   "execution_count": 2,
   "id": "aa5b3369-aa0c-4641-9fbc-22d65395e72b",
   "metadata": {
    "tags": []
   },
   "outputs": [
    {
     "ename": "SyntaxError",
     "evalue": "invalid syntax (4205639655.py, line 2)",
     "output_type": "error",
     "traceback": [
      "\u001b[0;36m  Input \u001b[0;32mIn [2]\u001b[0;36m\u001b[0m\n\u001b[0;31m    pip install qiskit\u001b[0m\n\u001b[0m        ^\u001b[0m\n\u001b[0;31mSyntaxError\u001b[0m\u001b[0;31m:\u001b[0m invalid syntax\n"
     ]
    }
   ],
   "source": [
    "pip install qiskit"
   ]
  },
  {
   "cell_type": "code",
   "execution_count": null,
   "id": "5b05a206",
   "metadata": {},
   "outputs": [],
   "source": [
    "pip install ipywidgets"
   ]
  },
  {
   "cell_type": "code",
   "execution_count": 4,
   "id": "7e128e78-4c65-475c-bfd9-41eac4c61233",
   "metadata": {},
   "outputs": [
    {
     "name": "stdout",
     "output_type": "stream",
     "text": [
      "Libraries imported successfully!\n"
     ]
    }
   ],
   "source": [
    "from qiskit import QuantumCircuit  #Importing the QuantumCircuit function from Qiskit. We will use this to create our quantum circuits!\n",
    "\n",
    "# We will use these functions to run our circuit and visualize its final state\n",
    "from qiskit import Aer, execute, IBMQ \n",
    "from qiskit.visualization import *\n",
    "from qiskit.tools.jupyter import *\n",
    "from ibm_quantum_widgets import *\n",
    "\n",
    "import warnings  # We are using this library to suppress some warning messages\n",
    "warnings.filterwarnings(\"ignore\")\n",
    "\n",
    "\n",
    "print(\"Libraries imported successfully!\")"
   ]
  },
  {
   "cell_type": "markdown",
   "id": "45d7e229",
   "metadata": {},
   "source": [
    "## If you successfully imported all the files and saw the sentence of \"Libraries imported successfully!\", Proceed to run the following cell\n",
    "\n",
    "Run the following code and check which concepts you are familiar with. "
   ]
  },
  {
   "cell_type": "code",
   "execution_count": null,
   "id": "58cdeb1f",
   "metadata": {},
   "outputs": [],
   "source": [
    "widgets.Select(\n",
    "    options=['Quantum Gate', 'Quantum Circuit', 'BlochSphere', \"Shor's algorithm\", \"Grover's algorithm\",\n",
    "     'Randomized Benchmarking', 'Quantum Error Correction', 'Hamiltonian Tomography', 'Photonic Quantum Computer', 'Electrodynamics'],\n",
    "    value='macOS',\n",
    "    # rows=10,\n",
    "    description='OS:',\n",
    "    disabled=False\n",
    ")"
   ]
  },
  {
   "cell_type": "markdown",
   "id": "7624c004",
   "metadata": {},
   "source": [
    "# If you know less than 3 concepts, proceed to the following code group\n",
    "* If you know more than or equal to 3 concepts and less than 7 concepts proceed to the next cell group.\n",
    "* If you know more than 7 concepts, proceed to the cell group after the next one. "
   ]
  },
  {
   "cell_type": "markdown",
   "id": "ff6f9de6",
   "metadata": {},
   "source": [
    "# Beginner Level"
   ]
  },
  {
   "cell_type": "markdown",
   "id": "c50d3547",
   "metadata": {},
   "source": [
    "# Before you proceed in this notebook, please download the quantum_game folder and explore the 3d world to learn concepts first.\n",
    "## After you finished all the explanation videos and convinced you understood the concepts, come back to this notebook and solve some tasks"
   ]
  },
  {
   "cell_type": "code",
   "execution_count": 5,
   "id": "95e40398-19e7-4b4c-9e4f-672ad452ea2e",
   "metadata": {},
   "outputs": [],
   "source": [
    "#defining a quantum circuit\n",
    "qc = QuantumCircuit(1,1)\n",
    "#in the code above we defied a quantum circuit of 1 qubit and 1 classical bit!\n"
   ]
  },
  {
   "cell_type": "code",
   "execution_count": 6,
   "id": "8054c555-86ea-42e8-a7d3-14dc64575570",
   "metadata": {},
   "outputs": [
    {
     "data": {
      "text/plain": [
       "<bound method QuantumCircuit.draw of <qiskit.circuit.quantumcircuit.QuantumCircuit object at 0x7f9bdb2bc640>>"
      ]
     },
     "execution_count": 6,
     "metadata": {},
     "output_type": "execute_result"
    }
   ],
   "source": [
    "qc.draw()\n",
    "#to draw the circuit and check how it looks visually"
   ]
  },
  {
   "cell_type": "code",
   "execution_count": null,
   "id": "a7c6fd79",
   "metadata": {},
   "outputs": [],
   "source": [
    "#to visualize the transition of the qubit on bloch sphere we use the following command \n",
    "#It may take time to run the command be patient!\n",
    "visualize_transition(qc, trace = True)"
   ]
  },
  {
   "cell_type": "code",
   "execution_count": null,
   "id": "61b2f0b0-7ac7-4681-8b52-4c15f01be8a4",
   "metadata": {},
   "outputs": [],
   "source": [
    "#as we know  that we have 3 types of gates namely x h z \n",
    "#to apply these gates we use the following code\n",
    "qc.x(0) #here 0 means that we applied x gate to the first qubit\n",
    "#as pythons number system starts from 0,1,2,3,..... thats why first qubit is 0th qubit\n",
    "\n",
    "#same for h & z gate\n",
    "\n",
    "qc.h(0)\n",
    "\n",
    "qc.z(0)"
   ]
  },
  {
   "cell_type": "code",
   "execution_count": null,
   "id": "fb81f446-6193-41d5-ab2a-86a1f13287ce",
   "metadata": {},
   "outputs": [],
   "source": [
    "#to measure the circuit we add \n",
    "qc.measure(0,0)\n"
   ]
  },
  {
   "cell_type": "code",
   "execution_count": null,
   "id": "c0ffd561",
   "metadata": {},
   "outputs": [],
   "source": [
    "qc.draw()"
   ]
  },
  {
   "cell_type": "code",
   "execution_count": null,
   "id": "e96112da-98b7-4d01-874b-74edc22b77ec",
   "metadata": {},
   "outputs": [],
   "source": [
    "#to Set up and run the statevector simulator:\n",
    "backend = Aer.get_backend('statevector_simulator') # Tell it which simulator you want to use\n",
    "job = execute(qc,backend) # Put in the name of your quantum circuit where it says qc\n",
    "result = job.result()\n"
   ]
  },
  {
   "cell_type": "code",
   "execution_count": null,
   "id": "d632164d-cd71-4dfa-a849-e7a1289eda92",
   "metadata": {},
   "outputs": [],
   "source": [
    "#Set up and run the QASM simulator:\n",
    "backend = Aer.get_backend('qasm_simulator') # Tell it which simulator you want to use\n",
    "job = execute(qc,backend, shots = 1024) # Put in the name of your quantum circuit where it says qc, and the number of shots you want to use\n",
    "result = job.result()\n"
   ]
  },
  {
   "cell_type": "code",
   "execution_count": null,
   "id": "9d9eef25-9216-4261-bcbb-f485fed5d7b2",
   "metadata": {},
   "outputs": [],
   "source": [
    "#To See the output in vector form (only for Statevector simulator):\n",
    "state = result.get_statevector()\n",
    "array_to_latex(state, pretext=\"\\\\text{Statevector} = \")\n"
   ]
  },
  {
   "cell_type": "code",
   "execution_count": null,
   "id": "3c20303e-2831-4a1b-9fd5-46226c5d9e13",
   "metadata": {
    "tags": []
   },
   "outputs": [],
   "source": [
    "#To See the output in histogram form (for Statevector, QASM, or real quantum computer):\n",
    "counts = result.get_counts()\n",
    "plot_histogram(counts)"
   ]
  },
  {
   "cell_type": "code",
   "execution_count": null,
   "id": "a79bd666-6e53-4dd1-9bd7-6c901b42aaf1",
   "metadata": {},
   "outputs": [],
   "source": [
    "#  Run your circuit using the code: \n",
    "visualize_transition(qc, trace = True)"
   ]
  },
  {
   "cell_type": "code",
   "execution_count": null,
   "id": "5023d24d-b82b-40e3-ba61-d3b329df5017",
   "metadata": {},
   "outputs": [],
   "source": [
    "##TASK 1\n",
    "\n",
    "#define a quantum circuit define the amount of qubits you want and apply a x (not) gate on it and see the result!\n"
   ]
  },
  {
   "cell_type": "code",
   "execution_count": null,
   "id": "d4df3989-a6db-44ff-b440-ddf8db252745",
   "metadata": {},
   "outputs": [],
   "source": [
    "##TASK 2\n",
    "\n",
    "#define another quantum circuit and apply h gate and see the output"
   ]
  },
  {
   "cell_type": "code",
   "execution_count": null,
   "id": "091d6953-ab89-4bf7-980b-5c7b00686e6f",
   "metadata": {},
   "outputs": [],
   "source": [
    "##TASK 3\n",
    "\n",
    "#define another one quantum circuit and apply z gate and see the output"
   ]
  },
  {
   "cell_type": "code",
   "execution_count": null,
   "id": "ddf1c80a-fb27-4823-825a-24cbd9946c60",
   "metadata": {},
   "outputs": [],
   "source": [
    "##Task 4\n",
    "\n",
    "#apply measurement on your circuit"
   ]
  },
  {
   "cell_type": "code",
   "execution_count": null,
   "id": "6f1525c9-55bc-4f63-a932-bb2cffca2023",
   "metadata": {},
   "outputs": [],
   "source": [
    "##heres a cool game for you \n",
    "\n",
    "#before that check out the code neatly and try to understand whats written in the code"
   ]
  },
  {
   "cell_type": "code",
   "execution_count": null,
   "id": "e31ee806-a718-4933-9a01-d740c7803702",
   "metadata": {},
   "outputs": [],
   "source": [
    "# Importing all the necessary library\n",
    "from qiskit.tools.jupyter import *\n",
    "from qiskit.visualization import *\n",
    "import qiskit.tools.jupyter #Repetition of line 1?\n",
    "import ipywidgets as widgets\n",
    "\n",
    "print(\"Welcome to the Quantum Coin Game. The coin starts off as Heads, which corresponds to |0>.\")\n",
    "print(\"You are playing against the Quantum Computer. The Quantum Computer will take its turn first.\")\n",
    "print(\"The Quantum Computer has just played its turn. Choose what you are going to do now.\")\n",
    "# Layout\n",
    "button = widgets.Button(\n",
    "    description='Play')\n",
    "player2_move = widgets.Dropdown(\n",
    "    options=[('Do not flip the coin', 'Do Nothing'), ('Flip the coin', 'Apply X gate')],\n",
    "    description='Choice: ',\n",
    "    disabled=False,\n",
    ")\n",
    "out = widgets.Output()\n",
    "def on_button_clicked(b):\n",
    "    with out:\n",
    " #--------------------------------------------CODE FOR GAME STARTS HERE----------------------------------------------------------#       \n",
    "        # Initial Circuit\n",
    "        qc = QuantumCircuit(1, 1)\n",
    "        \n",
    "        # Turn 1\n",
    "        qc.h(0)\n",
    "        \n",
    "        # Turn 2\n",
    "        if player2_move.value == 'Do nothing':\n",
    "            print('You chose to do nothing')\n",
    "        if player2_move.value == 'Apply X gate':\n",
    "            qc.x(0)\n",
    "            print('You chose to flip')\n",
    "        \n",
    "        # Turn 3\n",
    "        qc.h(0)\n",
    "        print('The Quantum Computer has played its turn')\n",
    "        # Measure  \n",
    "        qc.measure(0,0)\n",
    "        \n",
    "        # QASM\n",
    "        backend= Aer.get_backend('qasm_simulator')\n",
    "        job = execute(qc, backend, shots=1)\n",
    "        result = job.result()\n",
    "        counts = result.get_counts()\n",
    "        # Result\n",
    "        if '0' in counts:\n",
    "            print(\"You Lose to Quantum. The Quantum Computer Wins. Try again!\")\n",
    "        if '1' in counts:\n",
    "            print(\"You Win against the Quantum Computer. Great job!\")\n",
    "            \n",
    " #--------------------------------------------CODE FOR GAME ENDS HERE----------------------------------------------------------# \n",
    "button.on_click(on_button_clicked)\n",
    "widgets.VBox([player2_move, button, out])"
   ]
  },
  {
   "cell_type": "code",
   "execution_count": null,
   "id": "68b03b83-edf2-4282-9134-aa60af25917d",
   "metadata": {},
   "outputs": [],
   "source": [
    "#Start your Quantum Journey with reading some good books on Quantum Information!\n",
    "#Also dont forget to learn some Linear Algebra!"
   ]
  },
  {
   "cell_type": "markdown",
   "id": "8e3d1572",
   "metadata": {},
   "source": [
    "# Intermediate Level"
   ]
  },
  {
   "cell_type": "markdown",
   "id": "58c7ced5",
   "metadata": {},
   "source": [
    "# Pro Level"
   ]
  }
 ],
 "metadata": {
  "kernelspec": {
   "display_name": "Python 3.10.5 64-bit",
   "language": "python",
   "name": "python3"
  },
  "language_info": {
   "codemirror_mode": {
    "name": "ipython",
    "version": 3
   },
   "file_extension": ".py",
   "mimetype": "text/x-python",
   "name": "python",
   "nbconvert_exporter": "python",
   "pygments_lexer": "ipython3",
   "version": "3.10.5"
  },
  "vscode": {
   "interpreter": {
    "hash": "7e1998ff7f8aa20ada591c520b972326324e5ea05489af9e422744c7c09f6dad"
   }
  }
 },
 "nbformat": 4,
 "nbformat_minor": 5
}
